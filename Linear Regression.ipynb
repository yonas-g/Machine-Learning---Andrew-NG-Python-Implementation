{
 "cells": [
  {
   "cell_type": "code",
   "execution_count": 186,
   "metadata": {},
   "outputs": [],
   "source": [
    "import numpy as np\n",
    "from numpy import genfromtxt\n",
    "import matplotlib.pyplot as plt"
   ]
  },
  {
   "cell_type": "markdown",
   "metadata": {},
   "source": [
    "## Linear regression with one variable\n",
    "\n",
    "implement linear regression with one\n",
    "variable to predict profits for a food truck. Suppose you are the CEO of a\n",
    "restaurant franchise and are considering different cities for opening a new\n",
    "outlet. The chain already has trucks in various cities and you have data for\n",
    "profits and populations from the cities."
   ]
  },
  {
   "cell_type": "code",
   "execution_count": 206,
   "metadata": {},
   "outputs": [],
   "source": [
    "# the dataset is loaded from the data file into the variables X\n",
    "# and y:\n",
    "\n",
    "data = genfromtxt('./data/ex1data1.txt', delimiter=',')\n",
    "\n",
    "X = data[:, 0]\n",
    "y = data[: , 1]\n",
    "\n",
    "m,n = data.shape"
   ]
  },
  {
   "cell_type": "code",
   "execution_count": 207,
   "metadata": {
    "scrolled": true
   },
   "outputs": [
    {
     "data": {
      "image/png": "[encoded data removed]",
      "text/plain": [
       "<Figure size 432x288 with 1 Axes>"
      ]
     },
     "metadata": {
      "needs_background": "light"
     },
     "output_type": "display_data"
    }
   ],
   "source": [
    "# create a scatter plot of the data.\n",
    "\n",
    "plt.plot(X, y, 'rx')\n",
    "\n",
    "plt.ylabel('Profit in $10,000s');\n",
    "plt.xlabel('Population of City in 10,000s');"
   ]
  },
  {
   "cell_type": "markdown",
   "metadata": {},
   "source": [
    "## Gradient Descent\n",
    "\n",
    "fit the linear regression parameters θ to our dataset\n",
    "using gradient descent.\n",
    "\n",
    "\n",
    "![Cost Function](./images/linear%20regesstion%20-%20cost%20function.png)\n",
    "\n",
    "Recall that the parameters of your model are the θ j values. These are\n",
    "the values you will adjust to minimize cost J(θ).\n",
    "\n",
    "![Gradient Descent](./images/gradient%20descent%20-%20linear%20reg.png)"
   ]
  },
  {
   "cell_type": "markdown",
   "metadata": {},
   "source": [
    "### Implementation"
   ]
  },
  {
   "cell_type": "code",
   "execution_count": 208,
   "metadata": {},
   "outputs": [],
   "source": [
    "# we add another dimension to our data to accommodate the θ0 intercept term. \n",
    "# We also initialize the initial parameters to 0 and the\n",
    "# learning rate alpha to 0.01.\n",
    "\n",
    "X = np.column_stack((np.ones(m), X))\n",
    "\n",
    "theta = np.zeros((2, 1))\n",
    "iterations = 1500\n",
    "alpha = 0.01"
   ]
  },
  {
   "cell_type": "code",
   "execution_count": 191,
   "metadata": {},
   "outputs": [
    {
     "name": "stdout",
     "output_type": "stream",
     "text": [
      "X: (97, 3)\n",
      "Theta: (2, 1)\n"
     ]
    }
   ],
   "source": [
    "print(f'X: {X.shape}\\nTheta: {theta.shape}')"
   ]
  },
  {
   "cell_type": "markdown",
   "metadata": {},
   "source": [
    "### Computing the cost J(θ)\n",
    "\n",
    "As you perform gradient descent to learn minimize the cost function J(θ),\n",
    "it is helpful to monitor the convergence by computing the cost. In this\n",
    "section, you will implement a function to calculate J(θ) so you can check the\n",
    "convergence of your gradient descent implementation."
   ]
  },
  {
   "cell_type": "code",
   "execution_count": 72,
   "metadata": {},
   "outputs": [],
   "source": [
    "J = 0\n",
    "\n",
    "h = X.dot(theta)\n",
    "\n",
    "h = h.reshape(m)\n",
    "\n",
    "squareDiff = (h - y)**2\n",
    "\n",
    "J = 1/(2*m)*sum(squareDiff)"
   ]
  },
  {
   "cell_type": "code",
   "execution_count": 197,
   "metadata": {},
   "outputs": [
    {
     "name": "stdout",
     "output_type": "stream",
     "text": [
      "Cost for Theta values [0. 0.] is : 32.072733877455654\n"
     ]
    }
   ],
   "source": [
    "print(f'Cost for Theta values {theta.ravel()} is : {J}')"
   ]
  },
  {
   "cell_type": "code",
   "execution_count": 209,
   "metadata": {},
   "outputs": [],
   "source": [
    "# wrap cost calculator as function\n",
    "\n",
    "def computeCost(X, y, theta):\n",
    "    m = len(y)\n",
    "    J = 0\n",
    "    \n",
    "    theta = np.array(theta).reshape(2,1)\n",
    "    \n",
    "    h = X.dot(theta)\n",
    "    \n",
    "    h = h.reshape(m)\n",
    "    y = y.reshape(m)\n",
    "\n",
    "    squareDiff = (h - y)**2\n",
    "\n",
    "    J = 1/(2*m)*sum(squareDiff)\n",
    "    \n",
    "    return J"
   ]
  },
  {
   "cell_type": "code",
   "execution_count": 199,
   "metadata": {},
   "outputs": [
    {
     "data": {
      "text/plain": [
       "54.24245508201238"
      ]
     },
     "execution_count": 199,
     "metadata": {},
     "output_type": "execute_result"
    }
   ],
   "source": [
    "# computeCost(X, y, theta)\n",
    "\n",
    "computeCost(X, y, [-1, 2])"
   ]
  },
  {
   "cell_type": "markdown",
   "metadata": {},
   "source": [
    "### Computing Gradient Descent"
   ]
  },
  {
   "cell_type": "code",
   "execution_count": 200,
   "metadata": {},
   "outputs": [],
   "source": [
    "J_history = []\n",
    "y = y.reshape(m,1)\n",
    "\n",
    "for iter in range(0, iterations):\n",
    "    h = X.dot(theta)\n",
    "    \n",
    "    cost = h - y\n",
    "    \n",
    "    theta = theta - (alpha/m) * X.T.dot(cost)\n",
    "    \n",
    "    J_history.append(computeCost(X, y, theta))"
   ]
  },
  {
   "cell_type": "code",
   "execution_count": 201,
   "metadata": {},
   "outputs": [],
   "source": [
    "# function\n",
    "\n",
    "def gradientDescent(X, y, theta, alpha=0.01, iterations = 1500):\n",
    "    J_history = []\n",
    "    \n",
    "    y = y.reshape(m,1)\n",
    "\n",
    "    for iter in range(0, iterations):\n",
    "        h = X.dot(theta)\n",
    "\n",
    "        cost = h - y\n",
    "\n",
    "        theta = theta - (alpha/m) * X.T.dot(cost)\n",
    "\n",
    "        J_history.append(computeCost(X, y, theta))\n",
    "\n",
    "    return theta, J_history"
   ]
  },
  {
   "cell_type": "code",
   "execution_count": 210,
   "metadata": {},
   "outputs": [],
   "source": [
    "t, J_h = gradientDescent(X, y, theta, alpha, iterations)"
   ]
  },
  {
   "cell_type": "code",
   "execution_count": 211,
   "metadata": {},
   "outputs": [
    {
     "data": {
      "text/plain": [
       "array([[-3.63029144],\n",
       "       [ 1.16636235]])"
      ]
     },
     "execution_count": 211,
     "metadata": {},
     "output_type": "execute_result"
    }
   ],
   "source": [
    "t"
   ]
  },
  {
   "cell_type": "code",
   "execution_count": 214,
   "metadata": {
    "scrolled": true
   },
   "outputs": [
    {
     "data": {
      "text/plain": [
       "Text(0.5, 0, 'Number of Iteration')"
      ]
     },
     "execution_count": 214,
     "metadata": {},
     "output_type": "execute_result"
    },
    {
     "data": {
      "image/png": "[encoded data removed]",
      "text/plain": [
       "<Figure size 432x288 with 1 Axes>"
      ]
     },
     "metadata": {
      "needs_background": "light"
     },
     "output_type": "display_data"
    }
   ],
   "source": [
    "# plot cost with respect to number of iterations to make sure cost is decreasing\n",
    "\n",
    "plt.plot(range(0, iterations), J_h)\n",
    "\n",
    "plt.ylabel('Cost')\n",
    "plt.xlabel('Number of Iteration')"
   ]
  },
  {
   "cell_type": "code",
   "execution_count": 213,
   "metadata": {},
   "outputs": [
    {
     "data": {
      "text/plain": [
       "[<matplotlib.lines.Line2D at 0x7f017f627f90>]"
      ]
     },
     "execution_count": 213,
     "metadata": {},
     "output_type": "execute_result"
    },
    {
     "data": {
      "image/png": "[encoded data removed]",
      "text/plain": [
       "<Figure size 432x288 with 1 Axes>"
      ]
     },
     "metadata": {
      "needs_background": "light"
     },
     "output_type": "display_data"
    }
   ],
   "source": [
    "plt.scatter(X[:, 1], y, color='red')\n",
    "\n",
    "# mx+b\n",
    "y_pred = t[1]*X[:,1] + t[0]\n",
    "\n",
    "plt.plot(X[:,1], y_pred)"
   ]
  },
  {
   "cell_type": "markdown",
   "metadata": {},
   "source": [
    "# Linear regression with multiple variables"
   ]
  },
  {
   "cell_type": "markdown",
   "metadata": {},
   "source": [
    "## Feature Normalization\n",
    "\n",
    "When features differ by orders of magnitude, first performing feature scaling can make gradient descent converge\n",
    "much more quickly.\n",
    "\n",
    "Steps:\n",
    "1. Subtract the mean value of each feature from the dataset.\n",
    "2. After subtracting the mean, additionally scale (divide) the feature values by their respective “standard deviations.”"
   ]
  },
  {
   "cell_type": "code",
   "execution_count": 233,
   "metadata": {},
   "outputs": [
    {
     "data": {
      "text/plain": [
       "(47, 3)"
      ]
     },
     "execution_count": 233,
     "metadata": {},
     "output_type": "execute_result"
    }
   ],
   "source": [
    "data2 = genfromtxt('./data/ex1data2.txt', delimiter=',')\n",
    "\n",
    "X = data2[:, [0,1]]\n",
    "y = data2[: , 2]\n",
    "\n",
    "m,n = data2.shape\n",
    "\n",
    "m,n"
   ]
  },
  {
   "cell_type": "code",
   "execution_count": 234,
   "metadata": {},
   "outputs": [
    {
     "data": {
      "text/plain": [
       "(array([[2.104e+03, 3.000e+00],\n",
       "        [1.600e+03, 3.000e+00],\n",
       "        [2.400e+03, 3.000e+00],\n",
       "        [1.416e+03, 2.000e+00],\n",
       "        [3.000e+03, 4.000e+00],\n",
       "        [1.985e+03, 4.000e+00],\n",
       "        [1.534e+03, 3.000e+00],\n",
       "        [1.427e+03, 3.000e+00],\n",
       "        [1.380e+03, 3.000e+00],\n",
       "        [1.494e+03, 3.000e+00]]),\n",
       " array([399900., 329900., 369000., 232000., 539900., 299900., 314900.,\n",
       "        198999., 212000., 242500.]))"
      ]
     },
     "execution_count": 234,
     "metadata": {},
     "output_type": "execute_result"
    }
   ],
   "source": [
    "X[:10], y[:10]"
   ]
  },
  {
   "cell_type": "code",
   "execution_count": 242,
   "metadata": {},
   "outputs": [],
   "source": [
    "# mean for each feature\n",
    "\n",
    "mu = X.mean(axis = 0)\n",
    "\n",
    "sigma = X.std(axis = 0)\n",
    "\n",
    "meanDiff = X - mu\n",
    "\n",
    "X_norm = meanDiff / sigma"
   ]
  },
  {
   "cell_type": "code",
   "execution_count": 243,
   "metadata": {},
   "outputs": [],
   "source": [
    "'''\n",
    "Normalize features\n",
    "@returns normalized X, mean and std of each fature\n",
    "'''\n",
    "\n",
    "def featureNormalize(X):\n",
    "    mu = X.mean(axis = 0)\n",
    "\n",
    "    sigma = X.std(axis = 0)\n",
    "\n",
    "    meanDiff = X - mu\n",
    "\n",
    "    X_norm = meanDiff / sigma\n",
    "    \n",
    "    return X_norm, mu, sigma"
   ]
  },
  {
   "cell_type": "markdown",
   "metadata": {},
   "source": [
    "## Normal Equation\n",
    "\n",
    "![Normal Equation](./images/normal%20eqn.png)\n",
    "\n",
    "Using this formula does not require any feature scaling"
   ]
  },
  {
   "cell_type": "code",
   "execution_count": null,
   "metadata": {},
   "outputs": [],
   "source": [
    "def normalEqn(X, y):\n",
    "    return np.linalg.pinv(X.T.dot(X))"
   ]
  }
 ],
 "metadata": {
  "kernelspec": {
   "display_name": "Python 3.7.6 64-bit ('base': conda)",
   "language": "python",
   "name": "python37664bitbaseconda8d8a1bc5759b4031b9a2c70436dc5469"
  },
  "language_info": {
   "codemirror_mode": {
    "name": "ipython",
    "version": 3
   },
   "file_extension": ".py",
   "mimetype": "text/x-python",
   "name": "python",
   "nbconvert_exporter": "python",
   "pygments_lexer": "ipython3",
   "version": "3.7.6"
  }
 },
 "nbformat": 4,
 "nbformat_minor": 4
}
